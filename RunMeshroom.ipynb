{
  "nbformat": 4,
  "nbformat_minor": 0,
  "metadata": {
    "colab": {
      "name": "RunMeshroom.ipynb",
      "provenance": [],
      "collapsed_sections": [],
      "toc_visible": true
    },
    "kernelspec": {
      "name": "python3",
      "display_name": "Python 3"
    },
    "accelerator": "GPU"
  },
  "cells": [
    {
      "cell_type": "markdown",
      "metadata": {
        "id": "Dy6hEwRRuRg5"
      },
      "source": [
        ""
      ]
    },
    {
      "cell_type": "markdown",
      "metadata": {
        "id": "tJUlZN4TRnCH"
      },
      "source": [
        "This notebook is based off of [donmahallem's](https://github.com/donmahallem) MeshroomColab [notebook](https://gist.github.com/donmahallem/22134574382b7bd8a67c1550734fcfc4) and of [AB3D](https://github.com/AB3-Dev/colab-notebooks).\n",
        "\n",
        "If you need help, check out [my YouTube](https://bit.ly/ab3dchannel) and [my GitHub](https://github.com/ab3-dev).\n",
        "\n",
        "\n",
        "\n",
        "---\n",
        "\n"
      ]
    },
    {
      "cell_type": "markdown",
      "metadata": {
        "id": "bY865TQXurba"
      },
      "source": [
        "#Cosa è questo?\n",
        "Questo è un \"**notebook Jupiter**\", un insieme di testo e codice che viene eseguito su un computer sul cloud:\n",
        "\n",
        "*   può utilizzare la GPU ed essere eseguito per massimo 12 ore\n",
        "*   viene eseguito solo se la finestra del browser è aperta"
      ]
    },
    {
      "cell_type": "markdown",
      "metadata": {
        "id": "zTI6AlUXd-_M"
      },
      "source": [
        "#Connetti il tuo Google Drive\n",
        "Connettiti al tuo Google Drive, in modo da poter importare ed esportare i file.\n"
      ]
    },
    {
      "cell_type": "code",
      "metadata": {
        "id": "2wodsIcpYbDR"
      },
      "source": [
        "from google.colab import drive\n",
        "drive.mount('/content/drive')"
      ],
      "execution_count": null,
      "outputs": []
    },
    {
      "cell_type": "markdown",
      "metadata": {
        "id": "RD3eZSm6d6NZ"
      },
      "source": [
        "#Setup\n",
        "Aggiungi i percorsi con le foto e per salvare il risultato.\n",
        "\n",
        "Le immagini devono essere su una cartella separata da quella dell'output, possibilmente senza spazi nel nome.\n",
        "È possibile copiare il percorso espandendo le cartelle nel muenù a sinistra e cliccando con il tasto destro del mouse \"Copia percorso\".\n",
        "\n",
        "Il percorso è qualcosa simile a:\n",
        "*/content/drive/MyDrive/Fotogrammetria/Immagini*"
      ]
    },
    {
      "cell_type": "code",
      "metadata": {
        "id": "Ol5uQcZkLvA3"
      },
      "source": [
        "image_folder_path = \"\" #@param {type:\"string\"}\n",
        "output_path = \"\" #@param {type:\"string\"}\n",
        "use_sample_data = False #@param {type:\"boolean\"}\n"
      ],
      "execution_count": 3,
      "outputs": []
    },
    {
      "cell_type": "markdown",
      "metadata": {
        "id": "RsxzdzwtPVCA"
      },
      "source": [
        "Download Meshroom and sample data(if needed)."
      ]
    },
    {
      "cell_type": "code",
      "metadata": {
        "id": "cQgXdvk-qUvi"
      },
      "source": [
        "!wget -N https://github.com/alicevision/meshroom/releases/download/v2021.1.0/Meshroom-2021.1.0-linux-cuda10.tar.gz\n",
        "!mkdir meshroom\n",
        "!tar xzf Meshroom-2021.1.0-linux-cuda10.tar.gz -C ./meshroom"
      ],
      "execution_count": null,
      "outputs": []
    },
    {
      "cell_type": "markdown",
      "metadata": {
        "id": "xA_XKpKqdoqb"
      },
      "source": [
        "#Meshing\n",
        "Use the form in setup to specify an input and output path, or check sample data to try it out."
      ]
    },
    {
      "cell_type": "code",
      "metadata": {
        "id": "AZWyk461sxGI"
      },
      "source": [
        "#!mkdir '{output_path}'\n",
        "!./meshroom/Meshroom-2021.1.0-av2.4.0-centos7-cuda10.2/meshroom_batch -p photogrammetry -I '{image_folder_path}' -o '{output_path}'"
      ],
      "execution_count": null,
      "outputs": []
    },
    {
      "cell_type": "markdown",
      "metadata": {
        "id": "7wwo3nPyd0-w"
      },
      "source": [
        "#Download\n",
        "Now simply download the output folder from Google Drive!"
      ]
    }
  ]
}